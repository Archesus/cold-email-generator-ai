{
 "cells": [
  {
   "cell_type": "code",
   "execution_count": 4,
   "id": "c1ca44a3-037e-47d0-9671-16c1fe1b4c82",
   "metadata": {},
   "outputs": [
    {
     "name": "stdout",
     "output_type": "stream",
     "text": [
      "Travis Scott (born Jacques Webster) is an American rapper, singer, songwriter, and record producer. He was born on April 30, 1991, in Houston, Texas. Travis Scott rose to fame in the mid-2010s with his unique blend of hip-hop, electronic, and rock music.\n",
      "\n",
      "Travis Scott's music career began in the early 2010s, and he gained popularity with the release of his debut mixtape, \"Owl Pharaoh,\" in 2013. He then released his debut studio album, \"Rodeo,\" in 2015, which featured the hit single \"Antidote.\" However, it was his second studio album, \"Birds in the Trap Sing McKnight,\" released in 2016, that brought him mainstream success.\n",
      "\n",
      "Since then, Travis Scott has released several successful albums, including \"Astroworld\" (2018) and \"JackBoys\" (2019), a collaborative EP with his record label, Cactus Jack Records. He has also collaborated with numerous high-profile artists, such as Kanye West, Drake, and The Weeknd.\n",
      "\n",
      "Travis Scott is known for his high-energy live performances, which often feature elaborate stage designs, pyrotechnics, and crowd-surfing. He has headlined several music festivals, including Coachella and Lollapalooza, and has broken multiple records in the music industry.\n",
      "\n",
      "In addition to his music, Travis Scott has also made headlines for his personal life, including his relationship with reality TV star Kylie Jenner, with whom he has two children, Stormi and Wolf.\n",
      "\n",
      "Some of Travis Scott's most popular songs include:\n",
      "\n",
      "* \"Sicko Mode\"\n",
      "* \"Butterfly Effect\"\n",
      "* \"Antidote\"\n",
      "* \"Pick Up the Phone\" (with Young Thug and Quavo)\n",
      "* \"Franchise\" (with Young Thug and M.I.A.)\n",
      "\n",
      "Overall, Travis Scott is a talented and influential artist who has made a significant impact on the music industry with his unique sound and energetic live performances.\n"
     ]
    }
   ],
   "source": [
    "from langchain_groq import ChatGroq\n",
    "\n",
    "llm = ChatGroq(\n",
    "    model=\"llama-3.3-70b-versatile\",\n",
    "    temperature=0,\n",
    "    groq_api_key=\"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\",\n",
    "    # other params...\n",
    ")\n",
    "\n",
    "response = llm.invoke(\"who is travis scott?\")\n",
    "print(response.content)"
   ]
  },
  {
   "cell_type": "code",
   "execution_count": null,
   "id": "eee7a1c5-b9db-42cc-ba7f-16c9372ff32c",
   "metadata": {},
   "outputs": [],
   "source": []
  }
 ],
 "metadata": {
  "kernelspec": {
   "display_name": "Python 3 (ipykernel)",
   "language": "python",
   "name": "python3"
  },
  "language_info": {
   "codemirror_mode": {
    "name": "ipython",
    "version": 3
   },
   "file_extension": ".py",
   "mimetype": "text/x-python",
   "name": "python",
   "nbconvert_exporter": "python",
   "pygments_lexer": "ipython3",
   "version": "3.12.10"
  }
 },
 "nbformat": 4,
 "nbformat_minor": 5
}
